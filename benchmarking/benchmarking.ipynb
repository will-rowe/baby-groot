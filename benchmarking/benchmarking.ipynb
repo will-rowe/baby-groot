{
 "cells": [
  {
   "cell_type": "markdown",
   "metadata": {},
   "source": [
    "# Recovering a blaOXA allele\n",
    "\n",
    "This example shows how we can recover a blaOXA allele - blaOXA-90.\n",
    "\n",
    "This allele clusters with 81 other variants of blaOXA (90% clustering identity).\n",
    "\n",
    "I'll put this example in notebook form later, for now you will need to build groot and install BBMap (for simulating reads)\n",
    "\n",
    "***\n",
    "\n",
    "## using the KMV MinHash algorithm\n",
    "\n",
    "* simulate reads with BBMap, one set with errors, the other without\n",
    "\n",
    "```bash\n",
    "randomreads.sh ref=blaOXA-90.fna out=blaOXA-90-reads.1000.errors.fq length=100 reads=1000 adderrors=t\n",
    "randomreads.sh ref=blaOXA-90.fna out=blaOXA-90-reads.1000.fq length=100 reads=1000 adderrors=f\n",
    "```\n",
    "\n",
    "* create and index the graphs (using KMV MinHash + LSH Forest)\n",
    "\n",
    "```bash\n",
    "time ./baby-groot index -i arg-annot.90 -o test-index -k 31 -s 42 -j 0.97 --kmvSketch -p 4\n",
    "```\n",
    "\n",
    "* align the perfect reads and call the haplotype\n",
    "\n",
    "```bash\n",
    "time ./baby-groot align -i test-index -f blaOXA-90-reads.1000.fq -o test-graphs --minBaseCov 1.0 -p 4\n",
    "time ./baby-groot haplotype -i test-index -g test-graphs -o test-haplotype -b 100 -z 0.97 -s 0.005 -p 4\n",
    "```\n",
    "\n",
    "> 100% of reads align, with 91% of reads mapping multiple times\n",
    "\n",
    "> the reads only map to one graph (the blaOXA graph!)\n",
    "\n",
    "> the graph is approximately weighted using the k-mer content derived from projected sketches\n",
    "\n",
    "> the correct haplotype is then called using the approximately weighted variation graph\n",
    "\n",
    "* now try aligning the reads with errors and call haplotype\n",
    "\n",
    "```bash\n",
    "time ./baby-groot align -i test-index -f blaOXA-90-reads.1000.errors.fq -o test-graphs --minBaseCov 1.0 -p 4\n",
    "time ./baby-groot haplotype -i test-index -g test-graphs -o test-haplotype -b 100 -z 0.97 -s 0.005 -p 4\n",
    "```\n",
    "\n",
    "> only 80% of reads align this time, but still to the right graph\n",
    "\n",
    "> the correct haplotype is still called\n",
    "\n",
    "* now let's try with bottom-k sketching and bloom filter\n",
    "\n",
    "```bash\n",
    "time ./baby-groot index -i arg-annot.90 -o test-index -k 31 -s 17 -j 0.95 -p 4\n",
    "time ./baby-groot align -i test-index -f blaOXA-90-reads.1000.errors.fq -o test-graphs --minBaseCov 0.9 --minKmerCov 2 --bloomFilter\n",
    "time ./baby-groot haplotype -i test-index -g test-graphs -o test-haplotype -b 100 -z 1.0 -s 0.005 -p 4\n",
    "```"
   ]
  }
 ],
 "metadata": {
  "kernelspec": {
   "display_name": "Python 3",
   "language": "python",
   "name": "python3"
  },
  "language_info": {
   "codemirror_mode": {
    "name": "ipython",
    "version": 3
   },
   "file_extension": ".py",
   "mimetype": "text/x-python",
   "name": "python",
   "nbconvert_exporter": "python",
   "pygments_lexer": "ipython3",
   "version": "3.7.3"
  }
 },
 "nbformat": 4,
 "nbformat_minor": 2
}
